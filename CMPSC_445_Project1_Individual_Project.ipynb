{
  "nbformat": 4,
  "nbformat_minor": 0,
  "metadata": {
    "colab": {
      "provenance": [],
      "authorship_tag": "ABX9TyOB6gWAu0IUkJl86yWmLy79",
      "include_colab_link": true
    },
    "kernelspec": {
      "name": "python3",
      "display_name": "Python 3"
    },
    "language_info": {
      "name": "python"
    }
  },
  "cells": [
    {
      "cell_type": "markdown",
      "metadata": {
        "id": "view-in-github",
        "colab_type": "text"
      },
      "source": [
        "<a href=\"https://colab.research.google.com/github/TamaraEstrada/ml-predicting-house-prices/blob/main/CMPSC_445_Project1_Individual_Project.ipynb\" target=\"_parent\"><img src=\"https://colab.research.google.com/assets/colab-badge.svg\" alt=\"Open In Colab\"/></a>"
      ]
    },
    {
      "cell_type": "code",
      "execution_count": null,
      "metadata": {
        "id": "pyb7rWrZtq1h"
      },
      "outputs": [],
      "source": [
        "https://drive.google.com/file/d/195J4Oj6GFCgpyTHMYQoUHed_EnS4zr5j/view?usp=sharing\n",
        "\n",
        "\n",
        "file_id = '1us4fylqBbzTms4LBuMpWDDC2ltdVL4q7'\n",
        "output_file = 'boston.csv'\n",
        "url = f'https://drive.google.com/uc?id={file_id}'\n",
        "gdown.download(url, output_file, quiet=False)\n",
        "\n",
        "# Load csv into pandas DataFrame\n",
        "data = pd.read_csv('boston.csv')\n",
        "\n",
        "url = 'copied_raw_GH_link'\n",
        "df1 = pd.read_csv(url)\n",
        "# Dataset is now stored in a Pandas Dataframe"
      ]
    }
  ]
}